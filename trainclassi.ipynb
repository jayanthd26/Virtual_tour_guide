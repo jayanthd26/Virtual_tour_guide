{
 "cells": [
  {
   "cell_type": "code",
   "execution_count": 1,
   "metadata": {},
   "outputs": [
    {
     "name": "stderr",
     "output_type": "stream",
     "text": [
      "Using TensorFlow backend.\n"
     ]
    }
   ],
   "source": [
    "import sys\n",
    "import os\n",
    "from keras.preprocessing.image import ImageDataGenerator\n",
    "from keras import optimizers\n",
    "from keras.models import Sequential\n",
    "from keras.layers import Dropout, Flatten, Dense, Activation\n",
    "from keras.layers.convolutional import Convolution2D, MaxPooling2D\n",
    "from keras import callbacks\n",
    "import time"
   ]
  },
  {
   "cell_type": "code",
   "execution_count": 2,
   "metadata": {},
   "outputs": [],
   "source": [
    "\n",
    "DEV = False\n",
    "argvs = sys.argv\n",
    "argc = len(argvs)\n",
    "\n",
    "if argc > 1 and (argvs[1] == \"--development\" or argvs[1] == \"-d\"):\n",
    "  DEV = True\n",
    "\n",
    "if DEV:\n",
    "  epochs = 2\n",
    "else:\n",
    "  epochs = 20"
   ]
  },
  {
   "cell_type": "code",
   "execution_count": 3,
   "metadata": {},
   "outputs": [],
   "source": [
    "train_data_path = 'data1/train'\n",
    "validation_data_path = 'data1/test'"
   ]
  },
  {
   "cell_type": "code",
   "execution_count": 4,
   "metadata": {},
   "outputs": [],
   "source": [
    "img_width, img_height = 150, 150\n",
    "batch_size = 32\n",
    "samples_per_epoch = 1000\n",
    "validation_steps = 300\n",
    "nb_filters1 = 32\n",
    "nb_filters2 = 64\n",
    "conv1_size = 3\n",
    "conv2_size = 2\n",
    "pool_size = 2\n",
    "classes_num = 4\n",
    "lr = 0.0004"
   ]
  },
  {
   "cell_type": "code",
   "execution_count": 5,
   "metadata": {},
   "outputs": [
    {
     "name": "stderr",
     "output_type": "stream",
     "text": [
      "/home/ubuntu/anaconda3/envs/tf/lib/python3.6/site-packages/ipykernel_launcher.py:2: UserWarning: Update your `Conv2D` call to the Keras 2 API: `Conv2D(32, (3, 3), input_shape=(150, 150,..., padding=\"same\")`\n",
      "  \n",
      "/home/ubuntu/anaconda3/envs/tf/lib/python3.6/site-packages/ipykernel_launcher.py:6: UserWarning: Update your `Conv2D` call to the Keras 2 API: `Conv2D(64, (2, 2), padding=\"same\")`\n",
      "  \n",
      "/home/ubuntu/anaconda3/envs/tf/lib/python3.6/site-packages/ipykernel_launcher.py:8: UserWarning: Update your `MaxPooling2D` call to the Keras 2 API: `MaxPooling2D(pool_size=(2, 2), data_format=\"channels_first\")`\n",
      "  \n"
     ]
    }
   ],
   "source": [
    "model = Sequential()\n",
    "model.add(Convolution2D(nb_filters1, conv1_size, conv1_size, border_mode =\"same\", input_shape=(img_width, img_height, 3)))\n",
    "model.add(Activation(\"relu\"))\n",
    "model.add(MaxPooling2D(pool_size=(pool_size, pool_size)))\n",
    "\n",
    "model.add(Convolution2D(nb_filters2, conv2_size, conv2_size, border_mode =\"same\"))\n",
    "model.add(Activation(\"relu\"))\n",
    "model.add(MaxPooling2D(pool_size=(pool_size, pool_size), dim_ordering='th'))\n",
    "\n",
    "model.add(Flatten())\n",
    "model.add(Dense(256))\n",
    "model.add(Activation(\"relu\"))\n",
    "model.add(Dropout(0.5))\n",
    "model.add(Dense(classes_num, activation='softmax'))\n"
   ]
  },
  {
   "cell_type": "code",
   "execution_count": 6,
   "metadata": {},
   "outputs": [],
   "source": [
    "model.compile(loss='categorical_crossentropy',\n",
    "              optimizer=optimizers.RMSprop(lr=lr),\n",
    "              metrics=['accuracy'])"
   ]
  },
  {
   "cell_type": "code",
   "execution_count": 7,
   "metadata": {},
   "outputs": [
    {
     "name": "stdout",
     "output_type": "stream",
     "text": [
      "Found 14588 images belonging to 4 classes.\n",
      "Found 249 images belonging to 4 classes.\n"
     ]
    }
   ],
   "source": [
    "\n",
    "train_datagen = ImageDataGenerator(\n",
    "    rescale=1. / 255,\n",
    "    shear_range=0.2,\n",
    "    zoom_range=0.2,\n",
    "    horizontal_flip=True)\n",
    "\n",
    "test_datagen = ImageDataGenerator(rescale=1. / 255)\n",
    "\n",
    "train_generator = train_datagen.flow_from_directory(\n",
    "    train_data_path,\n",
    "    target_size=(img_height, img_width),\n",
    "    batch_size=batch_size,\n",
    "    class_mode='categorical')\n",
    "\n",
    "validation_generator = test_datagen.flow_from_directory(\n",
    "    validation_data_path,\n",
    "    target_size=(img_height, img_width),\n",
    "    batch_size=batch_size,\n",
    "    class_mode='categorical')"
   ]
  },
  {
   "cell_type": "code",
   "execution_count": 8,
   "metadata": {},
   "outputs": [
    {
     "name": "stderr",
     "output_type": "stream",
     "text": [
      "/home/ubuntu/anaconda3/envs/tf/lib/python3.6/site-packages/ipykernel_launcher.py:6: UserWarning: Update your `fit_generator` call to the Keras 2 API: `fit_generator(<keras_pre..., epochs=20, validation_data=<keras_pre..., validation_steps=300, steps_per_epoch=31)`\n",
      "  \n"
     ]
    },
    {
     "name": "stdout",
     "output_type": "stream",
     "text": [
      "Epoch 1/20\n",
      "31/31 [==============================] - 63s 2s/step - loss: 3.0866 - acc: 0.5222 - val_loss: 1.1760 - val_acc: 0.5749\n",
      "Epoch 2/20\n",
      "31/31 [==============================] - 116s 4s/step - loss: 0.3072 - acc: 0.8992 - val_loss: 0.2450 - val_acc: 0.9596\n",
      "Epoch 3/20\n",
      "31/31 [==============================] - 55s 2s/step - loss: 0.1671 - acc: 0.9597 - val_loss: 0.4940 - val_acc: 0.9356\n",
      "Epoch 4/20\n",
      "31/31 [==============================] - 46s 1s/step - loss: 0.1223 - acc: 0.9627 - val_loss: 0.7204 - val_acc: 0.9041\n",
      "Epoch 5/20\n",
      "31/31 [==============================] - 47s 2s/step - loss: 0.1262 - acc: 0.9688 - val_loss: 0.2595 - val_acc: 0.9479\n",
      "Epoch 6/20\n",
      "31/31 [==============================] - 46s 1s/step - loss: 0.0708 - acc: 0.9768 - val_loss: 0.6474 - val_acc: 0.8353\n",
      "Epoch 7/20\n",
      "31/31 [==============================] - 45s 1s/step - loss: 0.0892 - acc: 0.9829 - val_loss: 0.4958 - val_acc: 0.9358\n",
      "Epoch 8/20\n",
      "31/31 [==============================] - 45s 1s/step - loss: 0.1031 - acc: 0.9819 - val_loss: 0.3097 - val_acc: 0.9398\n",
      "Epoch 9/20\n",
      "31/31 [==============================] - 51s 2s/step - loss: 0.0635 - acc: 0.9889 - val_loss: 0.2309 - val_acc: 0.9597\n",
      "Epoch 10/20\n",
      "31/31 [==============================] - 47s 2s/step - loss: 0.0257 - acc: 0.9899 - val_loss: 0.4542 - val_acc: 0.9399\n",
      "Epoch 11/20\n",
      "31/31 [==============================] - 47s 2s/step - loss: 0.0933 - acc: 0.9839 - val_loss: 0.2751 - val_acc: 0.9475\n",
      "Epoch 12/20\n",
      "31/31 [==============================] - 52s 2s/step - loss: 0.0531 - acc: 0.9889 - val_loss: 0.3013 - val_acc: 0.9399\n",
      "Epoch 13/20\n",
      "31/31 [==============================] - 49s 2s/step - loss: 0.0310 - acc: 0.9909 - val_loss: 0.2591 - val_acc: 0.9516\n",
      "Epoch 14/20\n",
      "31/31 [==============================] - 50s 2s/step - loss: 0.0130 - acc: 0.9980 - val_loss: 0.2304 - val_acc: 0.9640\n",
      "Epoch 15/20\n",
      "31/31 [==============================] - 47s 2s/step - loss: 0.0346 - acc: 0.9899 - val_loss: 0.2309 - val_acc: 0.9557\n",
      "Epoch 16/20\n",
      "31/31 [==============================] - 41s 1s/step - loss: 0.0522 - acc: 0.9889 - val_loss: 0.1876 - val_acc: 0.9720\n",
      "Epoch 17/20\n",
      "31/31 [==============================] - 39s 1s/step - loss: 0.0526 - acc: 0.9909 - val_loss: 0.2118 - val_acc: 0.9558\n",
      "Epoch 18/20\n",
      "31/31 [==============================] - 39s 1s/step - loss: 0.0375 - acc: 0.9970 - val_loss: 0.2348 - val_acc: 0.9640\n",
      "Epoch 19/20\n",
      "31/31 [==============================] - 39s 1s/step - loss: 0.0288 - acc: 0.9940 - val_loss: 0.2832 - val_acc: 0.9440\n",
      "Epoch 20/20\n",
      "31/31 [==============================] - 40s 1s/step - loss: 0.0364 - acc: 0.9940 - val_loss: 0.1365 - val_acc: 0.9840\n"
     ]
    },
    {
     "data": {
      "text/plain": [
       "<keras.callbacks.History at 0x7fb53e02d940>"
      ]
     },
     "execution_count": 8,
     "metadata": {},
     "output_type": "execute_result"
    }
   ],
   "source": [
    "\n",
    "model.fit_generator(\n",
    "    train_generator,\n",
    "    samples_per_epoch=samples_per_epoch,\n",
    "    epochs=epochs,\n",
    "    validation_data=validation_generator,\n",
    "    validation_steps=validation_steps)"
   ]
  },
  {
   "cell_type": "code",
   "execution_count": 9,
   "metadata": {},
   "outputs": [],
   "source": [
    "target_dir = './models/'\n",
    "if not os.path.exists(target_dir):\n",
    "  os.mkdir(target_dir)\n",
    "model.save('./models/model3.h5')\n",
    "model.save_weights('./models/weights3.h5')"
   ]
  },
  {
   "cell_type": "code",
   "execution_count": 10,
   "metadata": {},
   "outputs": [],
   "source": [
    "#Define Path\n",
    "model_path = './models/model.h5'\n",
    "model_weights_path = './models/weights.h5'\n",
    "test_path = 'data/al_test'\n",
    "\n",
    "\n",
    "#Define image parameters\n",
    "img_width, img_height = 150, 150\n",
    "\n",
    "#Prediction Function\n",
    "def predict(file):\n",
    "  x = load_img(file, target_size=(img_width,img_height))\n",
    "  x = img_to_array(x)\n",
    "  x = np.expand_dims(x, axis=0)\n",
    "  array = model.predict(x)\n",
    "  result = array[0]\n",
    "  #print(result)\n",
    "  answer = np.argmax(result)\n",
    "  if answer == 1:\n",
    "    print(\"Predicted: chair\")\n",
    "  elif answer == 0:\n",
    "    print(\"Predicted: Motorbikes\")\n",
    "  elif answer == 2:\n",
    "    print(\"Predicted: soccer_ball\")\n",
    "\n",
    "  return answer\n",
    "\n",
    "#Walk the directory for every image\n",
    "for i, ret in enumerate(os.walk(test_path)):\n",
    "  for i, filename in enumerate(ret[2]):\n",
    "    if filename.startswith(\".\"):\n",
    "        \n",
    "      continue\n",
    "    \n",
    "    print(ret[0] + '/' + filename)\n",
    "    result = predict(ret[0] + '/' + filename)\n",
    "    print(\" \")\n"
   ]
  },
  {
   "cell_type": "code",
   "execution_count": null,
   "metadata": {},
   "outputs": [],
   "source": []
  }
 ],
 "metadata": {
  "kernelspec": {
   "display_name": "Python 3",
   "language": "python",
   "name": "python3"
  },
  "language_info": {
   "codemirror_mode": {
    "name": "ipython",
    "version": 3
   },
   "file_extension": ".py",
   "mimetype": "text/x-python",
   "name": "python",
   "nbconvert_exporter": "python",
   "pygments_lexer": "ipython3",
   "version": "3.6.8"
  }
 },
 "nbformat": 4,
 "nbformat_minor": 2
}
